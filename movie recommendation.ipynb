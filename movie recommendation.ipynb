{
  "cells": [
    {
      "cell_type": "markdown",
      "metadata": {
        "id": "view-in-github",
        "colab_type": "text"
      },
      "source": [
        "<a href=\"https://colab.research.google.com/github/irshxd/Movie_recommendation/blob/main/movie%20recommendation.ipynb\" target=\"_parent\"><img src=\"https://colab.research.google.com/assets/colab-badge.svg\" alt=\"Open In Colab\"/></a>"
      ]
    },
    {
      "cell_type": "code",
      "execution_count": 3,
      "metadata": {
        "id": "9qz_b3N06xUx"
      },
      "outputs": [],
      "source": [
        "import pandas as pd\n",
        "import numpy as np\n",
        "\n",
        "from sklearn.tree import DecisionTreeClassifier\n",
        "from sklearn.ensemble import RandomForestClassifier\n",
        "from sklearn.ensemble import GradientBoostingClassifier\n",
        "from sklearn.model_selection import train_test_split\n",
        "from sklearn.ensemble import VotingClassifier\n",
        "from xgboost import XGBClassifier\n",
        "\n",
        "\n",
        "\n",
        "import ast"
      ]
    },
    {
      "cell_type": "code",
      "execution_count": null,
      "metadata": {
        "id": "MO86Z7jIP07P"
      },
      "outputs": [],
      "source": [
        "movies = pd.read_csv(\"tmdb_5000_movies.csv\")\n",
        "credits =pd.read_csv(\"tmdb_5000_credits.csv\")"
      ]
    },
    {
      "cell_type": "code",
      "execution_count": null,
      "metadata": {
        "id": "SlkISzUwQLFx"
      },
      "outputs": [],
      "source": [
        "movies.head(1)"
      ]
    },
    {
      "cell_type": "code",
      "execution_count": null,
      "metadata": {
        "id": "iYOpaBErQlb3"
      },
      "outputs": [],
      "source": [
        "movies = movies.drop(['original_title','original_language','production_companies','production_countries','release_date',\n",
        "                      'spoken_languages','status','homepage','tagline'],axis=1)"
      ]
    },
    {
      "cell_type": "code",
      "execution_count": null,
      "metadata": {
        "id": "cSz5nD6ATtn_"
      },
      "outputs": [],
      "source": [
        "movies.head(1)"
      ]
    },
    {
      "cell_type": "code",
      "execution_count": null,
      "metadata": {
        "id": "Ra8ZdQzCQrvX"
      },
      "outputs": [],
      "source": [
        "movies.isnull().sum()"
      ]
    },
    {
      "cell_type": "code",
      "execution_count": null,
      "metadata": {
        "id": "GlEimXvAQykn"
      },
      "outputs": [],
      "source": [
        "movies = movies.dropna()"
      ]
    },
    {
      "cell_type": "code",
      "execution_count": null,
      "metadata": {
        "id": "GbhpSk-yUDCP"
      },
      "outputs": [],
      "source": [
        "movies.isnull().sum()"
      ]
    },
    {
      "cell_type": "code",
      "execution_count": null,
      "metadata": {
        "id": "xoaiuocaUFdW"
      },
      "outputs": [],
      "source": [
        "credits.head(1)"
      ]
    },
    {
      "cell_type": "code",
      "execution_count": null,
      "metadata": {
        "id": "cX1x1du1UrMH"
      },
      "outputs": [],
      "source": [
        "def fetch_director(text):\n",
        "    L = []\n",
        "    for i in ast.literal_eval(text):\n",
        "        if i['job'] == 'Director':\n",
        "            L.append(i['name'])\n",
        "    return L\n"
      ]
    },
    {
      "cell_type": "code",
      "execution_count": null,
      "metadata": {
        "id": "tD2DmnJ8Ur63"
      },
      "outputs": [],
      "source": [
        "credits['crew'] = credits['crew'].apply(fetch_director)"
      ]
    },
    {
      "cell_type": "code",
      "execution_count": null,
      "metadata": {
        "id": "IjlJHsnYYTMv"
      },
      "outputs": [],
      "source": [
        "credits.head(1)"
      ]
    },
    {
      "cell_type": "code",
      "execution_count": null,
      "metadata": {
        "id": "XwHs-lpLbd9n"
      },
      "outputs": [],
      "source": [
        "def convert(text):\n",
        "  l = []\n",
        "  for i in ast.literal_eval(text):\n",
        "    l.append(i['name'])\n",
        "  return l"
      ]
    },
    {
      "cell_type": "code",
      "execution_count": null,
      "metadata": {
        "id": "DlghcD6KbiE2"
      },
      "outputs": [],
      "source": [
        "credits['cast'] = credits['cast'].apply(convert)"
      ]
    },
    {
      "cell_type": "code",
      "execution_count": null,
      "metadata": {
        "id": "gTR_lbLEb4VG"
      },
      "outputs": [],
      "source": [
        "credits['cast'] = credits['cast'].apply(lambda x:x[0:3])"
      ]
    },
    {
      "cell_type": "code",
      "execution_count": null,
      "metadata": {
        "id": "dJNXIynXcuxW"
      },
      "outputs": [],
      "source": [
        "credits.head(1)"
      ]
    },
    {
      "cell_type": "code",
      "execution_count": null,
      "metadata": {
        "id": "KR7IOGNJdCOn"
      },
      "outputs": [],
      "source": [
        "movies['genres'] = movies['genres'].apply(convert)"
      ]
    },
    {
      "cell_type": "code",
      "execution_count": null,
      "metadata": {
        "id": "iDxQJH6MduLH"
      },
      "outputs": [],
      "source": [
        "movies['keywords'] = movies['keywords'].apply(convert)"
      ]
    },
    {
      "cell_type": "code",
      "execution_count": null,
      "metadata": {
        "id": "a8FG3qsndwpG"
      },
      "outputs": [],
      "source": [
        "movies.head(1)"
      ]
    },
    {
      "cell_type": "code",
      "execution_count": null,
      "metadata": {
        "id": "rfTzhD3dd-7-"
      },
      "outputs": [],
      "source": [
        "movies = movies.merge(credits,on=\"title\")"
      ]
    },
    {
      "cell_type": "code",
      "execution_count": null,
      "metadata": {
        "id": "DiGFeUvZjPY2"
      },
      "outputs": [],
      "source": [
        "movies.head(1)"
      ]
    },
    {
      "cell_type": "code",
      "execution_count": null,
      "metadata": {
        "id": "jwvkwxkgmMX3"
      },
      "outputs": [],
      "source": [
        "movies['overview'] = movies['overview'].apply(lambda x:  x.split())"
      ]
    },
    {
      "cell_type": "code",
      "execution_count": null,
      "metadata": {
        "id": "de8ueevgmPcm"
      },
      "outputs": [],
      "source": [
        "def collapse(L):\n",
        "  L1 = []\n",
        "  for i in L:\n",
        "    L1.append(i.replace(\" \",\"\"))\n",
        "  return L1"
      ]
    },
    {
      "cell_type": "code",
      "execution_count": null,
      "metadata": {
        "id": "sTmBxhXUqSSX"
      },
      "outputs": [],
      "source": [
        "movies['cast'] = movies['cast'].apply(collapse)\n",
        "movies['genres'] = movies['genres'].apply(collapse)\n",
        "movies['crew'] = movies['crew'].apply(collapse)\n",
        "movies['keywords'] = movies['keywords'].apply(collapse)"
      ]
    },
    {
      "cell_type": "code",
      "execution_count": null,
      "metadata": {
        "id": "cPOwwESrq7eu"
      },
      "outputs": [],
      "source": [
        "movies['tags'] = movies['cast'] + movies['crew'] + movies['genres'] + movies['keywords'] + movies['overview']"
      ]
    },
    {
      "cell_type": "code",
      "execution_count": null,
      "metadata": {
        "id": "uRT28mLerQSl"
      },
      "outputs": [],
      "source": [
        "movies['tags'] = movies['tags'].apply(lambda x: \" \".join(x))"
      ]
    },
    {
      "cell_type": "code",
      "execution_count": null,
      "metadata": {
        "id": "dGSnd4_FTEx6"
      },
      "outputs": [],
      "source": [
        "movies=movies[['popularity','revenue','runtime','vote_count','budget','title','vote_average','movie_id','tags']]"
      ]
    },
    {
      "cell_type": "code",
      "execution_count": null,
      "metadata": {
        "id": "wFsrWXtLTI0L"
      },
      "outputs": [],
      "source": [
        "movies['vote_average']  = movies['vote_average'].astype(\"int\")"
      ]
    },
    {
      "cell_type": "code",
      "execution_count": null,
      "metadata": {
        "id": "h2ZSmNJ1riAG"
      },
      "outputs": [],
      "source": [
        "movies.head(5)"
      ]
    },
    {
      "cell_type": "code",
      "execution_count": null,
      "metadata": {
        "id": "IL2dfSU1wBvS"
      },
      "outputs": [],
      "source": [
        "features = ['popularity','revenue','runtime','vote_count','budget']"
      ]
    },
    {
      "cell_type": "code",
      "execution_count": null,
      "metadata": {
        "id": "n1c9Hpt_sOfW"
      },
      "outputs": [],
      "source": [
        "X_train  ,  X_test  , y_train,  y_test = train_test_split(movies[features],movies['vote_average'] , test_size=0.35, random_state=42)"
      ]
    },
    {
      "cell_type": "code",
      "execution_count": null,
      "metadata": {
        "id": "irXE_mDuxft2"
      },
      "outputs": [],
      "source": [
        "dt = DecisionTreeClassifier()\n",
        "gb = GradientBoostingClassifier()\n",
        "rf = RandomForestClassifier()\n",
        "xg =XGBClassifier(max_depth=3,\n",
        "    gamma=4,\n",
        "    eta=0.3,\n",
        "    reg_alpha=0.5,\n",
        "    reg_lambda=0.6)"
      ]
    },
    {
      "cell_type": "code",
      "execution_count": null,
      "metadata": {
        "id": "Z-XogTx9xxbF"
      },
      "outputs": [],
      "source": [
        "model = VotingClassifier(estimators=[('dt',dt),('gb',gb),('rf',rf),('xg',xg)] , voting='hard')\n",
        "model.fit(X_train,y_train)\n",
        "model.score(X_test,y_test)"
      ]
    },
    {
      "cell_type": "code",
      "execution_count": null,
      "metadata": {
        "id": "BNHV3Huezfd9"
      },
      "outputs": [],
      "source": [
        "model.score(X_train,y_train)"
      ]
    },
    {
      "cell_type": "code",
      "execution_count": null,
      "metadata": {
        "id": "6YYr-nTmzxFl"
      },
      "outputs": [],
      "source": [
        "dt.fit(X_train,y_train)\n",
        "gb.fit(X_train,y_train)\n",
        "rf.fit(X_train,y_train)\n",
        "xg.fit(X_train,y_train)"
      ]
    },
    {
      "cell_type": "code",
      "execution_count": null,
      "metadata": {
        "id": "_0IUiE8cTopo"
      },
      "outputs": [],
      "source": [
        "from sklearn.feature_extraction.text import CountVectorizer"
      ]
    },
    {
      "cell_type": "code",
      "execution_count": null,
      "metadata": {
        "id": "xbC0nwJXXtwo"
      },
      "outputs": [],
      "source": [
        "cv = CountVectorizer(max_features=4806,stop_words='english')"
      ]
    },
    {
      "cell_type": "code",
      "execution_count": null,
      "metadata": {
        "id": "Z3cuDl8PXuw6"
      },
      "outputs": [],
      "source": [
        "vector  = cv.fit_transform(movies['tags'].values.astype('U')).toarray()"
      ]
    },
    {
      "cell_type": "code",
      "execution_count": null,
      "metadata": {
        "id": "4vkfX9paXuVe"
      },
      "outputs": [],
      "source": [
        "from sklearn.metrics.pairwise import cosine_similarity\n",
        "similarity = cosine_similarity(vector)"
      ]
    },
    {
      "cell_type": "code",
      "execution_count": null,
      "metadata": {
        "id": "mGk0TMR9buS_"
      },
      "outputs": [],
      "source": [
        "similarity"
      ]
    },
    {
      "cell_type": "code",
      "execution_count": null,
      "metadata": {
        "id": "9NjqXhmFDvU-"
      },
      "outputs": [],
      "source": [
        "def predict(name):\n",
        "  x = movies.loc[movies.title ==name].iloc[:,0:5]\n",
        "  fp = (rf.predict(x)+gb.predict(x)+xg.predict(x)+dt.predict(x))/4\n",
        "  print(f\"score prediction averaging {int(fp)}\")\n",
        "  print(f\"score prediction max_voting {int(model.predict(x))}\")\n",
        "  print(f\"actual score {int(movies.loc[movies.title == name]['vote_average'])}\\n\")\n",
        "  print(f\"Similar movies for ({name}):\")\n",
        "\n",
        "  index =  movies.loc[movies.title == name].index[0]\n",
        "  distance = sorted(list(enumerate(similarity[index])), reverse=True,key=lambda vector:vector[1])\n",
        "  for i in distance[1:5]:\n",
        "    print(movies.iloc[i[0]]['title'])"
      ]
    },
    {
      "cell_type": "code",
      "execution_count": null,
      "metadata": {
        "id": "yynoXCS9G3GV"
      },
      "outputs": [],
      "source": [
        "predict(\"The Dark Knight Rises\")"
      ]
    }
  ],
  "metadata": {
    "colab": {
      "provenance": [],
      "include_colab_link": true
    },
    "kernelspec": {
      "display_name": "Python 3",
      "name": "python3"
    },
    "language_info": {
      "codemirror_mode": {
        "name": "ipython",
        "version": 3
      },
      "file_extension": ".py",
      "mimetype": "text/x-python",
      "name": "python",
      "nbconvert_exporter": "python",
      "pygments_lexer": "ipython3",
      "version": "3.11.0"
    }
  },
  "nbformat": 4,
  "nbformat_minor": 0
}